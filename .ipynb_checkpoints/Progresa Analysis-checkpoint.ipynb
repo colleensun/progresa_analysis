{
 "cells": [
  {
   "cell_type": "markdown",
   "id": "governing-television",
   "metadata": {},
   "source": [
    "# Problem Statement\n",
    "The [Progresa](http://en.wikipedia.org/wiki/Oportunidades) program is a government social assistance program in Mexico. The goal of the program was to improve educational outcomes in poor households by providing subsidies if they send their children to school.\n",
    "\n",
    "The goal of this analysis is to measure the impact of Progresa on secondary school enrollment rates. "
   ]
  },
  {
   "cell_type": "markdown",
   "id": "desperate-holocaust",
   "metadata": {},
   "source": [
    "# Context\n",
    "The timeline of the program was:\n",
    "* Baseline survey conducted in 1997\n",
    "* Intervention begins in 1998, \"Wave 1\" of surveys conducted in 1998\n",
    "* \"Wave 2\" of surveys conducted in 1999\n",
    "* Evaluation ends in 2000, at which point the control villages were treated.\n",
    " \n",
    "Each row in the data corresponds to an observation taken for a given child for a given year. There are two years of data (1997 and 1998), and just under 40,000 children who are surveyed in each year. For each child-year observation, the following variables are collected:\n",
    "\n",
    "| Variable name | Description|\n",
    "|------|------|\n",
    "|year\t  |year in which data is collected\n",
    "|sex\t  |male = 1|\n",
    "|indig\t  |indigenous = 1|\n",
    "|dist_sec |nearest distance to a secondary school|\n",
    "|sc\t      |enrolled in school in year of survey|\n",
    "|grc      |grade enrolled|\n",
    "|fam_n    |family size|\n",
    "|min_dist |\tmin distance to an urban center|\n",
    "|dist_cap |\tmin distance to the capital|\n",
    "|poor     |\tpoor = 'pobre'|\n",
    "|progresa |treatment = 'basal'|\n",
    "|hohedu\t  |years of schooling of head of household|\n",
    "|hohwag\t  |monthly wages of head of household|\n",
    "|welfare_index|\twelfare index used to classify poor|\n",
    "|hohsex\t|gender of head of household (male=1)|\n",
    "|hohage\t|age of head of household|\n",
    "|age\t|years old|\n",
    "|folnum\t|individual id|\n",
    "|village|\tvillage id|\n",
    "|sc97\t|schooling in 1997|\n",
    "|grc97  |grade enrolled in 1997\n",
    "\n",
    "When assigning treatment to households, targeting was performed on 2 levels:\n",
    "1. Randomized all villages into treatment and control \n",
    "2. WIthin the poor villages in the treatment group, whether each household is above/below a poverty threshold - actual treatment is given to this below the threshold"
   ]
  },
  {
   "cell_type": "markdown",
   "id": "beginning-michigan",
   "metadata": {},
   "source": [
    "# Methodology\n",
    "\n",
    "Some analyses that were performed include:\n",
    "\n",
    "* Summary statistics to get a sense of the distribution of data \n",
    "* Checking for missing values, encoded variables as dummy variables to use for further analysis\n",
    "* T-test to check whether the difference between treatment and control groups is significant at the baseline (before treatment is rolled out)\n",
    "* Visualized outcome distributions of treatment/control groups before/after treatment using histograms\n",
    "* Performed impact evaluation by examining the simple-difference and difference-in-difference estimates of impact, this was done through linear regression models\n",
    "* Checked for spillover effects"
   ]
  },
  {
   "cell_type": "markdown",
   "id": "exotic-screw",
   "metadata": {},
   "source": [
    "# Findings\n",
    "\n",
    "* There exists some differences between treatment and control villages at baseline, which could suggest that the randomization was not done properly. This is important because having many significant differences between the control and treatment groups suggests that the groups differ systematically, and any subsequent differences in outcomes between the groups cannot be attributed to the treatment, since they could intead be due to pre-existing systematic differences.\n",
    "\n",
    "\n",
    "* There was no evidence of spillover effects. That is, none of the treatment effects got spilled over to the control group, which is what we want to see. \n",
    "\n",
    "\n",
    "* I conclude that Progresa had a causal impact on the enrollment rates of poor households in Mexico because:\n",
    "    * Targeting was performed on two levels during the experiment design (village- and household-level)\n",
    "    * Both the simple difference and difference-in-difference evaluation tell us that the treatment outcome is statistically significant\n",
    "\n",
    "\n",
    "The details of my analysis can be found below. "
   ]
  },
  {
   "cell_type": "markdown",
   "id": "declared-surprise",
   "metadata": {},
   "source": [
    "# Descriptive Analysis"
   ]
  },
  {
   "cell_type": "code",
   "execution_count": 2,
   "id": "later-psychiatry",
   "metadata": {},
   "outputs": [],
   "source": [
    "import statsmodels.api as sm\n",
    "import statsmodels.formula.api as smf\n",
    "import scipy.stats as stats\n",
    "import scipy as sp\n",
    "\n",
    "import pandas as pd\n",
    "import numpy as np\n",
    "import matplotlib.pyplot as plt  \n",
    "import seaborn as sns\n",
    "%matplotlib inline  "
   ]
  },
  {
   "cell_type": "code",
   "execution_count": 3,
   "id": "valid-elephant",
   "metadata": {},
   "outputs": [
    {
     "data": {
      "text/html": [
       "<div>\n",
       "<style scoped>\n",
       "    .dataframe tbody tr th:only-of-type {\n",
       "        vertical-align: middle;\n",
       "    }\n",
       "\n",
       "    .dataframe tbody tr th {\n",
       "        vertical-align: top;\n",
       "    }\n",
       "\n",
       "    .dataframe thead th {\n",
       "        text-align: right;\n",
       "    }\n",
       "</style>\n",
       "<table border=\"1\" class=\"dataframe\">\n",
       "  <thead>\n",
       "    <tr style=\"text-align: right;\">\n",
       "      <th></th>\n",
       "      <th>year</th>\n",
       "      <th>sex</th>\n",
       "      <th>indig</th>\n",
       "      <th>dist_sec</th>\n",
       "      <th>sc</th>\n",
       "      <th>grc</th>\n",
       "      <th>fam_n</th>\n",
       "      <th>min_dist</th>\n",
       "      <th>dist_cap</th>\n",
       "      <th>poor</th>\n",
       "      <th>progresa</th>\n",
       "      <th>hohedu</th>\n",
       "      <th>hohwag</th>\n",
       "      <th>welfare_index</th>\n",
       "      <th>hohsex</th>\n",
       "      <th>hohage</th>\n",
       "      <th>age</th>\n",
       "      <th>village</th>\n",
       "      <th>folnum</th>\n",
       "      <th>grc97</th>\n",
       "      <th>sc97</th>\n",
       "    </tr>\n",
       "  </thead>\n",
       "  <tbody>\n",
       "    <tr>\n",
       "      <th>0</th>\n",
       "      <td>97</td>\n",
       "      <td>0.0</td>\n",
       "      <td>0.0</td>\n",
       "      <td>4.473</td>\n",
       "      <td>1.0</td>\n",
       "      <td>7.0</td>\n",
       "      <td>7</td>\n",
       "      <td>21.168384</td>\n",
       "      <td>21.168384</td>\n",
       "      <td>pobre</td>\n",
       "      <td>0</td>\n",
       "      <td>6</td>\n",
       "      <td>0.0</td>\n",
       "      <td>583.0</td>\n",
       "      <td>1.0</td>\n",
       "      <td>35.0</td>\n",
       "      <td>13</td>\n",
       "      <td>163</td>\n",
       "      <td>1</td>\n",
       "      <td>7</td>\n",
       "      <td>1.0</td>\n",
       "    </tr>\n",
       "    <tr>\n",
       "      <th>1</th>\n",
       "      <td>98</td>\n",
       "      <td>0.0</td>\n",
       "      <td>0.0</td>\n",
       "      <td>4.473</td>\n",
       "      <td>1.0</td>\n",
       "      <td>8.0</td>\n",
       "      <td>7</td>\n",
       "      <td>21.168384</td>\n",
       "      <td>21.168384</td>\n",
       "      <td>pobre</td>\n",
       "      <td>0</td>\n",
       "      <td>6</td>\n",
       "      <td>0.0</td>\n",
       "      <td>583.0</td>\n",
       "      <td>1.0</td>\n",
       "      <td>35.0</td>\n",
       "      <td>14</td>\n",
       "      <td>163</td>\n",
       "      <td>1</td>\n",
       "      <td>7</td>\n",
       "      <td>1.0</td>\n",
       "    </tr>\n",
       "    <tr>\n",
       "      <th>2</th>\n",
       "      <td>97</td>\n",
       "      <td>1.0</td>\n",
       "      <td>0.0</td>\n",
       "      <td>4.473</td>\n",
       "      <td>1.0</td>\n",
       "      <td>6.0</td>\n",
       "      <td>7</td>\n",
       "      <td>21.168384</td>\n",
       "      <td>21.168384</td>\n",
       "      <td>pobre</td>\n",
       "      <td>0</td>\n",
       "      <td>6</td>\n",
       "      <td>0.0</td>\n",
       "      <td>583.0</td>\n",
       "      <td>1.0</td>\n",
       "      <td>35.0</td>\n",
       "      <td>12</td>\n",
       "      <td>163</td>\n",
       "      <td>2</td>\n",
       "      <td>6</td>\n",
       "      <td>1.0</td>\n",
       "    </tr>\n",
       "  </tbody>\n",
       "</table>\n",
       "</div>"
      ],
      "text/plain": [
       "   year  sex  indig  dist_sec   sc  grc  fam_n   min_dist   dist_cap   poor  \\\n",
       "0    97  0.0    0.0     4.473  1.0  7.0      7  21.168384  21.168384  pobre   \n",
       "1    98  0.0    0.0     4.473  1.0  8.0      7  21.168384  21.168384  pobre   \n",
       "2    97  1.0    0.0     4.473  1.0  6.0      7  21.168384  21.168384  pobre   \n",
       "\n",
       "  progresa  hohedu  hohwag  welfare_index  hohsex  hohage  age  village  \\\n",
       "0        0       6     0.0          583.0     1.0    35.0   13      163   \n",
       "1        0       6     0.0          583.0     1.0    35.0   14      163   \n",
       "2        0       6     0.0          583.0     1.0    35.0   12      163   \n",
       "\n",
       "   folnum  grc97  sc97  \n",
       "0       1      7   1.0  \n",
       "1       1      7   1.0  \n",
       "2       2      6   1.0  "
      ]
     },
     "execution_count": 3,
     "metadata": {},
     "output_type": "execute_result"
    }
   ],
   "source": [
    "# read data \n",
    "df = pd.read_csv('/Users/colleensun/repos/progresa_analysis/Data/progresa_sample.csv')\n",
    "pd.set_option('display.max_columns', None)\n",
    "df.head(3)"
   ]
  },
  {
   "cell_type": "code",
   "execution_count": 31,
   "id": "overall-finland",
   "metadata": {},
   "outputs": [
    {
     "data": {
      "text/plain": [
       "(77250, 21)"
      ]
     },
     "execution_count": 31,
     "metadata": {},
     "output_type": "execute_result"
    }
   ],
   "source": [
    "df.shape"
   ]
  },
  {
   "cell_type": "code",
   "execution_count": 32,
   "id": "applicable-hanging",
   "metadata": {},
   "outputs": [
    {
     "data": {
      "text/plain": [
       "year               int64\n",
       "sex              float64\n",
       "indig            float64\n",
       "dist_sec         float64\n",
       "sc               float64\n",
       "grc              float64\n",
       "fam_n              int64\n",
       "min_dist         float64\n",
       "dist_cap         float64\n",
       "poor               int64\n",
       "progresa           int64\n",
       "hohedu             int64\n",
       "hohwag           float64\n",
       "welfare_index    float64\n",
       "hohsex           float64\n",
       "hohage           float64\n",
       "age                int64\n",
       "village            int64\n",
       "folnum             int64\n",
       "grc97              int64\n",
       "sc97             float64\n",
       "dtype: object"
      ]
     },
     "execution_count": 32,
     "metadata": {},
     "output_type": "execute_result"
    }
   ],
   "source": [
    "df.dtypes"
   ]
  },
  {
   "cell_type": "code",
   "execution_count": 35,
   "id": "incredible-factory",
   "metadata": {},
   "outputs": [
    {
     "data": {
      "text/plain": [
       "year                0\n",
       "sex                24\n",
       "indig             300\n",
       "dist_sec            0\n",
       "sc               8453\n",
       "grc              6549\n",
       "fam_n               0\n",
       "min_dist            0\n",
       "dist_cap            0\n",
       "poor                0\n",
       "progresa            0\n",
       "hohedu              0\n",
       "hohwag              0\n",
       "welfare_index     210\n",
       "hohsex             20\n",
       "hohage             10\n",
       "age                 0\n",
       "village             0\n",
       "folnum              0\n",
       "grc97               0\n",
       "sc97             3872\n",
       "dtype: int64"
      ]
     },
     "execution_count": 35,
     "metadata": {},
     "output_type": "execute_result"
    }
   ],
   "source": [
    "df.isna().sum()"
   ]
  },
  {
   "cell_type": "code",
   "execution_count": 4,
   "id": "boring-power",
   "metadata": {},
   "outputs": [
    {
     "name": "stdout",
     "output_type": "stream",
     "text": [
      "['pobre' 'no pobre']\n",
      "['0' 'basal']\n"
     ]
    }
   ],
   "source": [
    "print(df['poor'].unique())\n",
    "print(df['progresa'].unique())"
   ]
  },
  {
   "cell_type": "markdown",
   "id": "august-forum",
   "metadata": {},
   "source": [
    "I will convert 'poor' and 'progresa' to boolean variables by assigning 'pobre' to be 1 (poor), 'no pobre' to be 0 (not poor), 'basal' to be 1 (treatment), and '0' to 0 (control)."
   ]
  },
  {
   "cell_type": "code",
   "execution_count": 5,
   "id": "attended-power",
   "metadata": {},
   "outputs": [],
   "source": [
    "maps = {'poor': {'pobre':1, 'no pobre':0}, \n",
    "       'progresa': {'basal':1, '0':0}}\n",
    "df = df.replace(maps)"
   ]
  },
  {
   "cell_type": "markdown",
   "id": "external-battle",
   "metadata": {},
   "source": [
    "### Summary statistics \n",
    "Show the mean and standard deviation for all of the demographic variables in the dataset (i.e., everything except year, folnum, village) to get an idea of data distribution."
   ]
  },
  {
   "cell_type": "code",
   "execution_count": 6,
   "id": "conventional-revision",
   "metadata": {},
   "outputs": [
    {
     "data": {
      "text/html": [
       "<div>\n",
       "<style scoped>\n",
       "    .dataframe tbody tr th:only-of-type {\n",
       "        vertical-align: middle;\n",
       "    }\n",
       "\n",
       "    .dataframe tbody tr th {\n",
       "        vertical-align: top;\n",
       "    }\n",
       "\n",
       "    .dataframe thead th {\n",
       "        text-align: right;\n",
       "    }\n",
       "</style>\n",
       "<table border=\"1\" class=\"dataframe\">\n",
       "  <thead>\n",
       "    <tr style=\"text-align: right;\">\n",
       "      <th></th>\n",
       "      <th>mean</th>\n",
       "      <th>std</th>\n",
       "    </tr>\n",
       "  </thead>\n",
       "  <tbody>\n",
       "    <tr>\n",
       "      <th>age</th>\n",
       "      <td>11.366460</td>\n",
       "      <td>3.167744</td>\n",
       "    </tr>\n",
       "    <tr>\n",
       "      <th>dist_cap</th>\n",
       "      <td>147.674452</td>\n",
       "      <td>76.063134</td>\n",
       "    </tr>\n",
       "    <tr>\n",
       "      <th>dist_sec</th>\n",
       "      <td>2.418910</td>\n",
       "      <td>2.234109</td>\n",
       "    </tr>\n",
       "    <tr>\n",
       "      <th>fam_n</th>\n",
       "      <td>7.215715</td>\n",
       "      <td>2.352900</td>\n",
       "    </tr>\n",
       "    <tr>\n",
       "      <th>grc</th>\n",
       "      <td>3.963537</td>\n",
       "      <td>2.499063</td>\n",
       "    </tr>\n",
       "    <tr>\n",
       "      <th>grc97</th>\n",
       "      <td>3.705372</td>\n",
       "      <td>2.572387</td>\n",
       "    </tr>\n",
       "    <tr>\n",
       "      <th>hohage</th>\n",
       "      <td>44.436717</td>\n",
       "      <td>11.620372</td>\n",
       "    </tr>\n",
       "    <tr>\n",
       "      <th>hohedu</th>\n",
       "      <td>2.768104</td>\n",
       "      <td>2.656106</td>\n",
       "    </tr>\n",
       "    <tr>\n",
       "      <th>hohsex</th>\n",
       "      <td>0.925185</td>\n",
       "      <td>0.263095</td>\n",
       "    </tr>\n",
       "    <tr>\n",
       "      <th>hohwag</th>\n",
       "      <td>586.985312</td>\n",
       "      <td>788.133664</td>\n",
       "    </tr>\n",
       "    <tr>\n",
       "      <th>indig</th>\n",
       "      <td>0.298324</td>\n",
       "      <td>0.457525</td>\n",
       "    </tr>\n",
       "    <tr>\n",
       "      <th>min_dist</th>\n",
       "      <td>103.447520</td>\n",
       "      <td>42.089441</td>\n",
       "    </tr>\n",
       "    <tr>\n",
       "      <th>poor</th>\n",
       "      <td>0.846498</td>\n",
       "      <td>0.360473</td>\n",
       "    </tr>\n",
       "    <tr>\n",
       "      <th>progresa</th>\n",
       "      <td>0.615663</td>\n",
       "      <td>0.486441</td>\n",
       "    </tr>\n",
       "    <tr>\n",
       "      <th>sc</th>\n",
       "      <td>0.819818</td>\n",
       "      <td>0.384342</td>\n",
       "    </tr>\n",
       "    <tr>\n",
       "      <th>sc97</th>\n",
       "      <td>0.813922</td>\n",
       "      <td>0.389172</td>\n",
       "    </tr>\n",
       "    <tr>\n",
       "      <th>sex</th>\n",
       "      <td>0.512211</td>\n",
       "      <td>0.499854</td>\n",
       "    </tr>\n",
       "    <tr>\n",
       "      <th>welfare_index</th>\n",
       "      <td>690.346564</td>\n",
       "      <td>139.491130</td>\n",
       "    </tr>\n",
       "  </tbody>\n",
       "</table>\n",
       "</div>"
      ],
      "text/plain": [
       "                     mean         std\n",
       "age             11.366460    3.167744\n",
       "dist_cap       147.674452   76.063134\n",
       "dist_sec         2.418910    2.234109\n",
       "fam_n            7.215715    2.352900\n",
       "grc              3.963537    2.499063\n",
       "grc97            3.705372    2.572387\n",
       "hohage          44.436717   11.620372\n",
       "hohedu           2.768104    2.656106\n",
       "hohsex           0.925185    0.263095\n",
       "hohwag         586.985312  788.133664\n",
       "indig            0.298324    0.457525\n",
       "min_dist       103.447520   42.089441\n",
       "poor             0.846498    0.360473\n",
       "progresa         0.615663    0.486441\n",
       "sc               0.819818    0.384342\n",
       "sc97             0.813922    0.389172\n",
       "sex              0.512211    0.499854\n",
       "welfare_index  690.346564  139.491130"
      ]
     },
     "execution_count": 6,
     "metadata": {},
     "output_type": "execute_result"
    }
   ],
   "source": [
    "df_summary = df.drop(['year', 'folnum', 'village'], axis=1).describe()\n",
    "pd.DataFrame({'mean':df_summary.loc['mean'], 'std':df_summary.loc['std']}).sort_index()"
   ]
  },
  {
   "cell_type": "markdown",
   "id": "particular-doctrine",
   "metadata": {},
   "source": [
    "### Differences at baseline?\n",
    "Check whether the baseline (1997) demographic characteristics for the poor is different in treatment and control villages. Using a T-Test to determine whether there is a statistically significant difference in the average values of each of the variables in the dataset. Focus only on the data from 1997 from poor households (i.e., poor==1)."
   ]
  },
  {
   "cell_type": "code",
   "execution_count": 7,
   "id": "insured-danger",
   "metadata": {},
   "outputs": [],
   "source": [
    "# poor households in treatment group in 1997\n",
    "treat_97 = df[(df['poor']==1) & (df['year']==97) & (df['progresa']==1)]\n",
    "\n",
    "# poor households in control group in 1997\n",
    "control_97 = df[(df['poor']==1) & (df['year']==97) & (df['progresa']==0)]\n",
    "\n",
    "# drop non-demographic variables,\n",
    "#   drop sc and grc because they're identical to sc97 and grc97, \n",
    "#   drop poor and progresa because we already filtered on these variables\n",
    "\n",
    "treat_97 = treat_97.drop(['year', 'folnum', 'village','sc','grc','poor','progresa'], axis=1)\n",
    "control_97 = control_97.drop(['year', 'folnum', 'village','sc','grc','poor','progresa'], axis=1)\n",
    "\n",
    "# calculate the mean of each group, and their difference \n",
    "mean_treat = np.round(treat_97.mean(), 4)\n",
    "mean_control = np.round(control_97.mean(), 4)\n",
    "diff = mean_treat - mean_control"
   ]
  },
  {
   "cell_type": "code",
   "execution_count": 11,
   "id": "informational-division",
   "metadata": {},
   "outputs": [
    {
     "data": {
      "text/html": [
       "<div>\n",
       "<style scoped>\n",
       "    .dataframe tbody tr th:only-of-type {\n",
       "        vertical-align: middle;\n",
       "    }\n",
       "\n",
       "    .dataframe tbody tr th {\n",
       "        vertical-align: top;\n",
       "    }\n",
       "\n",
       "    .dataframe thead th {\n",
       "        text-align: right;\n",
       "    }\n",
       "</style>\n",
       "<table border=\"1\" class=\"dataframe\">\n",
       "  <thead>\n",
       "    <tr style=\"text-align: right;\">\n",
       "      <th></th>\n",
       "      <th>Variable name</th>\n",
       "      <th>Average value (Treatment villages)</th>\n",
       "      <th>Average value (Control villages)</th>\n",
       "      <th>Difference (Treat - Control)</th>\n",
       "      <th>p-value</th>\n",
       "    </tr>\n",
       "  </thead>\n",
       "  <tbody>\n",
       "    <tr>\n",
       "      <th>11</th>\n",
       "      <td>age</td>\n",
       "      <td>10.7170</td>\n",
       "      <td>10.7420</td>\n",
       "      <td>-0.0250</td>\n",
       "      <td>0.4786</td>\n",
       "    </tr>\n",
       "    <tr>\n",
       "      <th>5</th>\n",
       "      <td>dist_cap</td>\n",
       "      <td>150.8291</td>\n",
       "      <td>153.7697</td>\n",
       "      <td>-2.9406</td>\n",
       "      <td>0.0008</td>\n",
       "    </tr>\n",
       "    <tr>\n",
       "      <th>2</th>\n",
       "      <td>dist_sec</td>\n",
       "      <td>2.4531</td>\n",
       "      <td>2.5077</td>\n",
       "      <td>-0.0546</td>\n",
       "      <td>0.0357</td>\n",
       "    </tr>\n",
       "    <tr>\n",
       "      <th>3</th>\n",
       "      <td>fam_n</td>\n",
       "      <td>7.2813</td>\n",
       "      <td>7.3025</td>\n",
       "      <td>-0.0212</td>\n",
       "      <td>0.4271</td>\n",
       "    </tr>\n",
       "    <tr>\n",
       "      <th>12</th>\n",
       "      <td>grc97</td>\n",
       "      <td>3.5316</td>\n",
       "      <td>3.5430</td>\n",
       "      <td>-0.0114</td>\n",
       "      <td>0.6890</td>\n",
       "    </tr>\n",
       "    <tr>\n",
       "      <th>10</th>\n",
       "      <td>hohage</td>\n",
       "      <td>43.6488</td>\n",
       "      <td>44.2769</td>\n",
       "      <td>-0.6281</td>\n",
       "      <td>0.0000</td>\n",
       "    </tr>\n",
       "    <tr>\n",
       "      <th>6</th>\n",
       "      <td>hohedu</td>\n",
       "      <td>2.6631</td>\n",
       "      <td>2.5903</td>\n",
       "      <td>0.0728</td>\n",
       "      <td>0.0111</td>\n",
       "    </tr>\n",
       "    <tr>\n",
       "      <th>9</th>\n",
       "      <td>hohsex</td>\n",
       "      <td>0.9247</td>\n",
       "      <td>0.9229</td>\n",
       "      <td>0.0018</td>\n",
       "      <td>0.5712</td>\n",
       "    </tr>\n",
       "    <tr>\n",
       "      <th>7</th>\n",
       "      <td>hohwag</td>\n",
       "      <td>544.3395</td>\n",
       "      <td>573.1636</td>\n",
       "      <td>-28.8241</td>\n",
       "      <td>0.0003</td>\n",
       "    </tr>\n",
       "    <tr>\n",
       "      <th>1</th>\n",
       "      <td>indig</td>\n",
       "      <td>0.3260</td>\n",
       "      <td>0.3322</td>\n",
       "      <td>-0.0062</td>\n",
       "      <td>0.2454</td>\n",
       "    </tr>\n",
       "    <tr>\n",
       "      <th>4</th>\n",
       "      <td>min_dist</td>\n",
       "      <td>107.1529</td>\n",
       "      <td>103.2379</td>\n",
       "      <td>3.9150</td>\n",
       "      <td>0.0000</td>\n",
       "    </tr>\n",
       "    <tr>\n",
       "      <th>13</th>\n",
       "      <td>sc97</td>\n",
       "      <td>0.8227</td>\n",
       "      <td>0.8152</td>\n",
       "      <td>0.0075</td>\n",
       "      <td>0.0952</td>\n",
       "    </tr>\n",
       "    <tr>\n",
       "      <th>0</th>\n",
       "      <td>sex</td>\n",
       "      <td>0.5193</td>\n",
       "      <td>0.5051</td>\n",
       "      <td>0.0142</td>\n",
       "      <td>0.0122</td>\n",
       "    </tr>\n",
       "    <tr>\n",
       "      <th>8</th>\n",
       "      <td>welfare_index</td>\n",
       "      <td>655.4284</td>\n",
       "      <td>659.5791</td>\n",
       "      <td>-4.1507</td>\n",
       "      <td>0.0014</td>\n",
       "    </tr>\n",
       "  </tbody>\n",
       "</table>\n",
       "</div>"
      ],
      "text/plain": [
       "    Variable name  Average value (Treatment villages)  \\\n",
       "11            age                             10.7170   \n",
       "5        dist_cap                            150.8291   \n",
       "2        dist_sec                              2.4531   \n",
       "3           fam_n                              7.2813   \n",
       "12          grc97                              3.5316   \n",
       "10         hohage                             43.6488   \n",
       "6          hohedu                              2.6631   \n",
       "9          hohsex                              0.9247   \n",
       "7          hohwag                            544.3395   \n",
       "1           indig                              0.3260   \n",
       "4        min_dist                            107.1529   \n",
       "13           sc97                              0.8227   \n",
       "0             sex                              0.5193   \n",
       "8   welfare_index                            655.4284   \n",
       "\n",
       "    Average value (Control villages)  Difference (Treat - Control)  p-value  \n",
       "11                           10.7420                       -0.0250   0.4786  \n",
       "5                           153.7697                       -2.9406   0.0008  \n",
       "2                             2.5077                       -0.0546   0.0357  \n",
       "3                             7.3025                       -0.0212   0.4271  \n",
       "12                            3.5430                       -0.0114   0.6890  \n",
       "10                           44.2769                       -0.6281   0.0000  \n",
       "6                             2.5903                        0.0728   0.0111  \n",
       "9                             0.9229                        0.0018   0.5712  \n",
       "7                           573.1636                      -28.8241   0.0003  \n",
       "1                             0.3322                       -0.0062   0.2454  \n",
       "4                           103.2379                        3.9150   0.0000  \n",
       "13                            0.8152                        0.0075   0.0952  \n",
       "0                             0.5051                        0.0142   0.0122  \n",
       "8                           659.5791                       -4.1507   0.0014  "
      ]
     },
     "execution_count": 11,
     "metadata": {},
     "output_type": "execute_result"
    }
   ],
   "source": [
    "# variable names\n",
    "columns = treat_97.columns.tolist()\n",
    "\n",
    "# p-values\n",
    "pvals = []\n",
    "for col in columns:\n",
    "    pval = stats.ttest_ind(treat_97[col], control_97[col], nan_policy='omit')[1]\n",
    "    pvals.append(round(pval,4))\n",
    "    \n",
    "baseline = pd.DataFrame({'Variable name':columns,\n",
    "             'Average value (Treatment villages)':mean_treat,\n",
    "             'Average value (Control villages)':mean_control,\n",
    "             'Difference (Treat - Control)':diff,\n",
    "             'p-value':pvals}).reset_index(drop=True).sort_values(by='Variable name')\n",
    "baseline"
   ]
  },
  {
   "cell_type": "markdown",
   "id": "false-investigator",
   "metadata": {},
   "source": [
    "* Using significance level of 0.05, for several variables, there are statistically significant differences between treatment and control villages for poor households at baseline. The villages differ significantly in characterisitcs including: minimum distances to the capital and urban center; nearest distance to a secondary school; age, years of schooling, and monthly wages of head of household; the sex of the children; and welfare index.\n",
    "\n",
    "\n",
    "* **These differences at baseline could suggest that the randomization was not done properly**. This is important because having many significant differences between the control and treatment groups suggests that the **groups differ systematically**. This violates the key identifying assumption. i.e. outcomes in treatment and control groups would NOT have been the same in the absence of treatment.\n",
    "\n",
    "\n",
    "* This also implies that any subsequent differences between the treatment and control outcomes cannot be attributed to the treatment, since they could intead be due to pre-existing systematic differences between the two groups. This implies that when doing **impact evaluation**, just comparing the control vs. treatment outcomes is **probably not sufficient**."
   ]
  },
  {
   "cell_type": "markdown",
   "id": "preceding-vessel",
   "metadata": {},
   "source": [
    "### Visualization\n",
    "\n",
    "First, visualize the average enrollment rates in **treatment** group **before and after** treatment."
   ]
  },
  {
   "cell_type": "code",
   "execution_count": 12,
   "id": "behavioral-people",
   "metadata": {},
   "outputs": [
    {
     "data": {
      "image/png": "[encoded data removed]",
      "text/plain": [
       "<Figure size 720x432 with 1 Axes>"
      ]
     },
     "metadata": {
      "needs_background": "light"
     },
     "output_type": "display_data"
    },
    {
     "data": {
      "image/png": "[encoded data removed]",
      "text/plain": [
       "<Figure size 720x432 with 1 Axes>"
      ]
     },
     "metadata": {
      "needs_background": "light"
     },
     "output_type": "display_data"
    }
   ],
   "source": [
    "treat_97 = df[(df['poor']==1) & (df['progresa']==1) & (df['year']==97)]\n",
    "treat_98 = df[(df['poor']==1) & (df['progresa']==1) & (df['year']==98)]\n",
    "\n",
    "# average enrollment rates for each village for 1997 and 1998\n",
    "vil_means_97 = treat_97.groupby('village')['sc'].mean()\n",
    "vil_means_98 = treat_98.groupby('village')['sc'].mean()\n",
    "\n",
    "# average enrollment rates across all households for 1997 and 1998\n",
    "hh_mean_97 = treat_97['sc'].mean()\n",
    "hh_mean_98 = treat_98['sc'].mean()\n",
    "\n",
    "# histograms\n",
    "plt.figure(figsize=(10,6))\n",
    "plt.hist(vil_means_97, range=[0.4, 1])\n",
    "plt.axvline(hh_mean_97, color='r', linewidth=2)\n",
    "plt.title('Average enrollment rates among poor households (treatment), 1997')\n",
    "plt.show()\n",
    "\n",
    "plt.figure(figsize=(10,6))\n",
    "plt.hist(vil_means_98, range=[0.4, 1])\n",
    "plt.axvline(hh_mean_98, color='r', linewidth=2)\n",
    "plt.title('Average enrollment rates among poor households (treatment), 1998')\n",
    "plt.show()"
   ]
  },
  {
   "cell_type": "code",
   "execution_count": 16,
   "id": "positive-canon",
   "metadata": {},
   "outputs": [
    {
     "name": "stdout",
     "output_type": "stream",
     "text": [
      "Average enrollment rate 1997: 0.82\n",
      "Average enrollment rate 1998: 0.85\n",
      "Difference: 0.02\n",
      "p-value: 0.0000\n",
      "t-statistic: -6.07\n"
     ]
    }
   ],
   "source": [
    "print('Average enrollment rate 1997: {:.2f}'.format(hh_mean_97))\n",
    "print('Average enrollment rate 1998: {:.2f}'.format(hh_mean_98))\n",
    "print('Difference: {:.2f}'.format(hh_mean_98-hh_mean_97))\n",
    "tstat, pval = stats.ttest_ind(treat_97['sc'], treat_98['sc'], nan_policy='omit')\n",
    "print('p-value: {:.4f}'.format(pval))\n",
    "print('t-statistic: {:.2f}'.format(tstat))"
   ]
  },
  {
   "cell_type": "markdown",
   "id": "equivalent-medicine",
   "metadata": {},
   "source": [
    "The average enrollment rate across all treatment households post-treatment is about 0.02 higher than it was pre-treatment. Performing a t-test on the enrollment data from 1997 and 1998 of poor households in treated villages, we get a small p-value, which suggests that the difference between the average post- and pre-treatment enrollment rates is statistically significant."
   ]
  },
  {
   "cell_type": "markdown",
   "id": "acceptable-reception",
   "metadata": {},
   "source": [
    "Next, visualize the average enrollment rates in **control** group **before and after** treatment."
   ]
  },
  {
   "cell_type": "code",
   "execution_count": 17,
   "id": "conservative-workstation",
   "metadata": {},
   "outputs": [
    {
     "data": {
      "image/png": "[encoded data removed]",
      "text/plain": [
       "<Figure size 720x432 with 1 Axes>"
      ]
     },
     "metadata": {
      "needs_background": "light"
     },
     "output_type": "display_data"
    },
    {
     "data": {
      "image/png": "[encoded data removed]",
      "text/plain": [
       "<Figure size 720x432 with 1 Axes>"
      ]
     },
     "metadata": {
      "needs_background": "light"
     },
     "output_type": "display_data"
    }
   ],
   "source": [
    "control_97 = df[(df['poor']==1) & (df['progresa']==0) & (df['year']==97)]\n",
    "control_98 = df[(df['poor']==1) & (df['progresa']==0) & (df['year']==98)]\n",
    "\n",
    "# average enrollment rates for each village for 1997 and 1998\n",
    "vil_means_97 = control_97.groupby('village')['sc'].mean()\n",
    "vil_means_98 = control_98.groupby('village')['sc'].mean()\n",
    "\n",
    "# average enrollment rates across all households for 1997 and 1998\n",
    "hh_mean_97 = control_97['sc'].mean()\n",
    "hh_mean_98 = control_98['sc'].mean()\n",
    "\n",
    "# histograms\n",
    "plt.figure(figsize=(10,6))\n",
    "plt.hist(vil_means_97, range=[0.4,1])\n",
    "plt.axvline(hh_mean_97, color='r', linewidth=2)\n",
    "plt.title('Average enrollment rates among poor households (control), 1997')\n",
    "plt.show()\n",
    "\n",
    "plt.figure(figsize=(10,6))\n",
    "plt.hist(vil_means_98, range=[0.4,1])\n",
    "plt.axvline(hh_mean_98, color='r', linewidth=2)\n",
    "plt.title('Average enrollment rates among poor households (control), 1998')\n",
    "plt.show()"
   ]
  },
  {
   "cell_type": "code",
   "execution_count": 18,
   "id": "fleet-settle",
   "metadata": {},
   "outputs": [
    {
     "name": "stdout",
     "output_type": "stream",
     "text": [
      "Average enrollment rate of control group 1997: 0.82\n",
      "Average enrollment rate of control group 1998: 0.81\n",
      "Difference: -0.01\n",
      "p-value: 0.1511\n",
      "t-statistic: 1.44\n"
     ]
    }
   ],
   "source": [
    "print('Average enrollment rate of control group 1997: {:.2f}'.format(hh_mean_97))\n",
    "print('Average enrollment rate of control group 1998: {:.2f}'.format(hh_mean_98))\n",
    "print('Difference: {:.2f}'.format(hh_mean_98-hh_mean_97))\n",
    "tstat, pval = stats.ttest_ind(control_97['sc'], control_98['sc'], nan_policy='omit')\n",
    "print('p-value: {:.4f}'.format(pval))\n",
    "print('t-statistic: {:.2f}'.format(tstat))"
   ]
  },
  {
   "cell_type": "markdown",
   "id": "welcome-kazakhstan",
   "metadata": {},
   "source": [
    "The average enrollment rate across all control households post-treatment is about 0.01 lower than it was pre-treatment. A t-test gives a p-value of 0.1511, which is not statistically significant at the 0.05 level. This is a good sign because the control households are supposed to remain unchanged before and after treatment."
   ]
  },
  {
   "cell_type": "markdown",
   "id": "willing-planning",
   "metadata": {},
   "source": [
    "# Measuring Impact"
   ]
  },
  {
   "cell_type": "markdown",
   "id": "geographic-yorkshire",
   "metadata": {},
   "source": [
    "The goal is to estimate the causal impact of the Progresa program on the social and economic outcomes of individuals in Mexico. We will focus on the impact of the program on the poor (those with poor==1), since only the poor were eligible to receive Progresa assistance."
   ]
  },
  {
   "cell_type": "markdown",
   "id": "human-rogers",
   "metadata": {},
   "source": [
    "### Simple differences: Regression"
   ]
  },
  {
   "cell_type": "code",
   "execution_count": 27,
   "id": "stock-frame",
   "metadata": {},
   "outputs": [
    {
     "name": "stdout",
     "output_type": "stream",
     "text": [
      "                            OLS Regression Results                            \n",
      "==============================================================================\n",
      "Dep. Variable:                     sc   R-squared:                       0.003\n",
      "Model:                            OLS   Adj. R-squared:                  0.003\n",
      "Method:                 Least Squares   F-statistic:                     69.87\n",
      "Date:                Fri, 26 Feb 2021   Prob (F-statistic):           6.64e-17\n",
      "Time:                        04:54:24   Log-Likelihood:                -11926.\n",
      "No. Observations:               27450   AIC:                         2.386e+04\n",
      "Df Residuals:                   27448   BIC:                         2.387e+04\n",
      "Df Model:                           1                                         \n",
      "Covariance Type:            nonrobust                                         \n",
      "==============================================================================\n",
      "                 coef    std err          t      P>|t|      [0.025      0.975]\n",
      "------------------------------------------------------------------------------\n",
      "Intercept      0.8076      0.004    220.676      0.000       0.800       0.815\n",
      "progresa       0.0388      0.005      8.359      0.000       0.030       0.048\n",
      "==============================================================================\n",
      "Omnibus:                     7638.939   Durbin-Watson:                   1.734\n",
      "Prob(Omnibus):                  0.000   Jarque-Bera (JB):            15767.534\n",
      "Skew:                          -1.767   Prob(JB):                         0.00\n",
      "Kurtosis:                       4.140   Cond. No.                         3.01\n",
      "==============================================================================\n",
      "\n",
      "Notes:\n",
      "[1] Standard Errors assume that the covariance matrix of the errors is correctly specified.\n"
     ]
    }
   ],
   "source": [
    "df_poor98 = df[(df['poor']==1) & (df['year']==98)]\n",
    "model = smf.ols(formula='sc ~ progresa', data=df_poor98).fit()\n",
    "print(model.summary())"
   ]
  },
  {
   "cell_type": "code",
   "execution_count": 28,
   "id": "studied-integer",
   "metadata": {},
   "outputs": [
    {
     "name": "stdout",
     "output_type": "stream",
     "text": [
      "                            OLS Regression Results                            \n",
      "==============================================================================\n",
      "Dep. Variable:                     sc   R-squared:                       0.267\n",
      "Model:                            OLS   Adj. R-squared:                  0.267\n",
      "Method:                 Least Squares   F-statistic:                     1419.\n",
      "Date:                Fri, 26 Feb 2021   Prob (F-statistic):               0.00\n",
      "Time:                        04:56:19   Log-Likelihood:                -7639.4\n",
      "No. Observations:               27267   AIC:                         1.529e+04\n",
      "Df Residuals:                   27259   BIC:                         1.536e+04\n",
      "Df Model:                           7                                         \n",
      "Covariance Type:            nonrobust                                         \n",
      "=================================================================================\n",
      "                    coef    std err          t      P>|t|      [0.025      0.975]\n",
      "---------------------------------------------------------------------------------\n",
      "Intercept         1.5025      0.014    105.342      0.000       1.475       1.530\n",
      "progresa          0.0352      0.004      8.799      0.000       0.027       0.043\n",
      "age              -0.0655      0.001    -95.105      0.000      -0.067      -0.064\n",
      "dist_sec         -0.0117      0.001    -13.361      0.000      -0.013      -0.010\n",
      "sex               0.0310      0.004      7.977      0.000       0.023       0.039\n",
      "hohedu            0.0085      0.001     10.951      0.000       0.007       0.010\n",
      "welfare_index  3.227e-05   1.72e-05      1.872      0.061   -1.52e-06    6.61e-05\n",
      "indig             0.0468      0.004     11.283      0.000       0.039       0.055\n",
      "==============================================================================\n",
      "Omnibus:                     2993.090   Durbin-Watson:                   1.718\n",
      "Prob(Omnibus):                  0.000   Jarque-Bera (JB):             4083.947\n",
      "Skew:                          -0.940   Prob(JB):                         0.00\n",
      "Kurtosis:                       3.248   Cond. No.                     4.90e+03\n",
      "==============================================================================\n",
      "\n",
      "Notes:\n",
      "[1] Standard Errors assume that the covariance matrix of the errors is correctly specified.\n",
      "[2] The condition number is large, 4.9e+03. This might indicate that there are\n",
      "strong multicollinearity or other numerical problems.\n"
     ]
    }
   ],
   "source": [
    "model1 = smf.ols(formula='sc ~ progresa + age + dist_sec + sex + hohedu + welfare_index + indig', \n",
    "                 data=df_poor98).fit()\n",
    "print(model1.summary())"
   ]
  },
  {
   "cell_type": "markdown",
   "id": "parallel-universe",
   "metadata": {},
   "source": [
    "Without considering any other variables, Progresa increases the likelihood of a child enrolling by 0.0388 on average. Adding the control variables decreased the point estimate of the progresa coefficient by 0.0036, and reduced its standard error by 0.001. Both regressions suggest the impact of Progresa is statistically significant. However, we'll perform a difference-in-different test since we discovered systematic differences between the groups in the beginning of our analysis. "
   ]
  },
  {
   "cell_type": "markdown",
   "id": "desperate-fortune",
   "metadata": {},
   "source": [
    "### Difference-in-Difference"
   ]
  },
  {
   "cell_type": "code",
   "execution_count": 19,
   "id": "weird-departure",
   "metadata": {},
   "outputs": [
    {
     "data": {
      "text/html": [
       "<div>\n",
       "<style scoped>\n",
       "    .dataframe tbody tr th:only-of-type {\n",
       "        vertical-align: middle;\n",
       "    }\n",
       "\n",
       "    .dataframe tbody tr th {\n",
       "        vertical-align: top;\n",
       "    }\n",
       "\n",
       "    .dataframe thead th {\n",
       "        text-align: right;\n",
       "    }\n",
       "</style>\n",
       "<table border=\"1\" class=\"dataframe\">\n",
       "  <thead>\n",
       "    <tr style=\"text-align: right;\">\n",
       "      <th></th>\n",
       "      <th>1997</th>\n",
       "      <th>1998</th>\n",
       "    </tr>\n",
       "  </thead>\n",
       "  <tbody>\n",
       "    <tr>\n",
       "      <th>Control</th>\n",
       "      <td>0.815186</td>\n",
       "      <td>0.807637</td>\n",
       "    </tr>\n",
       "    <tr>\n",
       "      <th>Treatment</th>\n",
       "      <td>0.822697</td>\n",
       "      <td>0.846479</td>\n",
       "    </tr>\n",
       "  </tbody>\n",
       "</table>\n",
       "</div>"
      ],
      "text/plain": [
       "               1997      1998\n",
       "Control    0.815186  0.807637\n",
       "Treatment  0.822697  0.846479"
      ]
     },
     "execution_count": 19,
     "metadata": {},
     "output_type": "execute_result"
    }
   ],
   "source": [
    "treat_97 = df[(df['poor']==1) & (df['year']==97) & (df['progresa']==1)]\n",
    "treat_98 = df[(df['poor']==1) & (df['year']==98) & (df['progresa']==1)]\n",
    "control_97 = df[(df['poor']==1) & (df['year']==97) & (df['progresa']==0)]\n",
    "control_98 = df[(df['poor']==1) & (df['year']==98) & (df['progresa']==0)]\n",
    "\n",
    "mean_t_97 = treat_97['sc'].mean()\n",
    "mean_t_98 = treat_98['sc'].mean()\n",
    "mean_c_97 = control_97['sc'].mean()\n",
    "mean_c_98 = control_98['sc'].mean()\n",
    "\n",
    "pd.DataFrame([(mean_c_97, mean_c_98), (mean_t_97, mean_t_98)],\n",
    "             index=['Control', 'Treatment'],\n",
    "             columns=['1997', '1998'])"
   ]
  },
  {
   "cell_type": "code",
   "execution_count": 21,
   "id": "revolutionary-drama",
   "metadata": {},
   "outputs": [
    {
     "name": "stdout",
     "output_type": "stream",
     "text": [
      "Estimated impact: 0.0313\n"
     ]
    }
   ],
   "source": [
    "print('Estimated impact: {:.4f}'.format((mean_t_98-mean_t_97)-(mean_c_98-mean_c_97)))"
   ]
  },
  {
   "cell_type": "markdown",
   "id": "closed-heaven",
   "metadata": {},
   "source": [
    "The difference-in-difference estimator captures the baseline differences between the two groups, and it estimates the impact of Progresa to be an approximately 0.0313 higher enrollment rate."
   ]
  },
  {
   "cell_type": "markdown",
   "id": "toxic-agency",
   "metadata": {},
   "source": [
    "### Difference-in-Difference Regression"
   ]
  },
  {
   "cell_type": "code",
   "execution_count": 29,
   "id": "flush-league",
   "metadata": {},
   "outputs": [
    {
     "name": "stdout",
     "output_type": "stream",
     "text": [
      "                            OLS Regression Results                            \n",
      "==============================================================================\n",
      "Dep. Variable:                     sc   R-squared:                       0.279\n",
      "Model:                            OLS   Adj. R-squared:                  0.278\n",
      "Method:                 Least Squares   F-statistic:                     2488.\n",
      "Date:                Fri, 26 Feb 2021   Prob (F-statistic):               0.00\n",
      "Time:                        04:58:48   Log-Likelihood:                -16656.\n",
      "No. Observations:               58013   AIC:                         3.333e+04\n",
      "Df Residuals:                   58003   BIC:                         3.342e+04\n",
      "Df Model:                           9                                         \n",
      "Covariance Type:            nonrobust                                         \n",
      "==========================================================================================\n",
      "                             coef    std err          t      P>|t|      [0.025      0.975]\n",
      "------------------------------------------------------------------------------------------\n",
      "Intercept                  1.4711      0.010    149.640      0.000       1.452       1.490\n",
      "C(year)[T.98]              0.0278      0.004      6.370      0.000       0.019       0.036\n",
      "progresa                   0.0044      0.004      1.169      0.242      -0.003       0.012\n",
      "progresa:C(year)[T.98]     0.0309      0.006      5.582      0.000       0.020       0.042\n",
      "age                       -0.0655      0.000   -143.552      0.000      -0.066      -0.065\n",
      "dist_sec                  -0.0108      0.001    -17.378      0.000      -0.012      -0.010\n",
      "sex                        0.0338      0.003     12.625      0.000       0.029       0.039\n",
      "hohedu                     0.0075      0.001     13.841      0.000       0.006       0.009\n",
      "welfare_index           3.555e-05   1.19e-05      2.986      0.003    1.22e-05    5.89e-05\n",
      "indig                      0.0499      0.003     17.363      0.000       0.044       0.055\n",
      "==============================================================================\n",
      "Omnibus:                     5532.977   Durbin-Watson:                   1.483\n",
      "Prob(Omnibus):                  0.000   Jarque-Bera (JB):             7289.118\n",
      "Skew:                          -0.866   Prob(JB):                         0.00\n",
      "Kurtosis:                       3.116   Cond. No.                     5.02e+03\n",
      "==============================================================================\n",
      "\n",
      "Notes:\n",
      "[1] Standard Errors assume that the covariance matrix of the errors is correctly specified.\n",
      "[2] The condition number is large, 5.02e+03. This might indicate that there are\n",
      "strong multicollinearity or other numerical problems.\n"
     ]
    }
   ],
   "source": [
    "df_poor = df[df['poor']==1]\n",
    "model2 = smf.ols(formula='sc ~ progresa * C(year) + age + dist_sec + sex + hohedu + welfare_index + indig', \n",
    "                 data=df_poor).fit()\n",
    "print(model2.summary())"
   ]
  },
  {
   "cell_type": "markdown",
   "id": "dramatic-subscription",
   "metadata": {},
   "source": [
    "In this model, the estimate of the impact of Progresa is a 0.0309 higher enrollment rate. This is slightly lower than the what we got from the difference-in-difference table because, in the table, the progresa variable takes into account effects of the control variables, but here, these effects are separated."
   ]
  },
  {
   "cell_type": "markdown",
   "id": "danish-holocaust",
   "metadata": {},
   "source": [
    "### Spillover Effects\n",
    "\n",
    "Now, we'll focus on the impact of Progresa on non-poor households to see if any of the treatment effects got spilled over to the control group."
   ]
  },
  {
   "cell_type": "code",
   "execution_count": 30,
   "id": "driving-thread",
   "metadata": {},
   "outputs": [
    {
     "name": "stdout",
     "output_type": "stream",
     "text": [
      "                            OLS Regression Results                            \n",
      "==============================================================================\n",
      "Dep. Variable:                     sc   R-squared:                       0.283\n",
      "Model:                            OLS   Adj. R-squared:                  0.283\n",
      "Method:                 Least Squares   F-statistic:                     453.6\n",
      "Date:                Fri, 26 Feb 2021   Prob (F-statistic):               0.00\n",
      "Time:                        04:58:55   Log-Likelihood:                -3675.3\n",
      "No. Observations:               10334   AIC:                             7371.\n",
      "Df Residuals:                   10324   BIC:                             7443.\n",
      "Df Model:                           9                                         \n",
      "Covariance Type:            nonrobust                                         \n",
      "==========================================================================================\n",
      "                             coef    std err          t      P>|t|      [0.025      0.975]\n",
      "------------------------------------------------------------------------------------------\n",
      "Intercept                  1.4462      0.030     48.805      0.000       1.388       1.504\n",
      "C(year)[T.98]              0.0387      0.011      3.565      0.000       0.017       0.060\n",
      "progresa                   0.0275      0.009      2.945      0.003       0.009       0.046\n",
      "progresa:C(year)[T.98]    -0.0019      0.014     -0.134      0.893      -0.029       0.026\n",
      "age                       -0.0681      0.001    -59.864      0.000      -0.070      -0.066\n",
      "dist_sec                  -0.0159      0.002     -8.958      0.000      -0.019      -0.012\n",
      "sex                        0.0295      0.007      4.331      0.000       0.016       0.043\n",
      "hohedu                     0.0093      0.001      8.559      0.000       0.007       0.011\n",
      "welfare_index              0.0001   2.84e-05      3.790      0.000     5.2e-05       0.000\n",
      "indig                      0.0391      0.010      3.849      0.000       0.019       0.059\n",
      "==============================================================================\n",
      "Omnibus:                      844.510   Durbin-Watson:                   1.494\n",
      "Prob(Omnibus):                  0.000   Jarque-Bera (JB):              824.786\n",
      "Skew:                          -0.635   Prob(JB):                    7.94e-180\n",
      "Kurtosis:                       2.452   Cond. No.                     7.77e+03\n",
      "==============================================================================\n",
      "\n",
      "Notes:\n",
      "[1] Standard Errors assume that the covariance matrix of the errors is correctly specified.\n",
      "[2] The condition number is large, 7.77e+03. This might indicate that there are\n",
      "strong multicollinearity or other numerical problems.\n"
     ]
    }
   ],
   "source": [
    "df_nonpoor = df[df['poor']==0]\n",
    "model3 = smf.ols(formula='sc ~ progresa * C(year) + age + dist_sec + sex + hohedu + welfare_index + indig', \n",
    "                 data=df_nonpoor).fit()\n",
    "print(model3.summary())"
   ]
  },
  {
   "cell_type": "markdown",
   "id": "crazy-track",
   "metadata": {},
   "source": [
    "In this model, the estimated impact of Progresa is a 0.0019 lower enrollment rate that is not statistically significant. So, Progresa doesn't appear to have any impacts on the non-poor.\n",
    "\n",
    "Although we didn't find evidence of spillovers, a reason why spillover might have occured would be, since the Progresa \"treatment\" is assigned at the village level, but only the poor households receive money, non-poor households could be affected if they live a treatment village. For example, non-poor households in a treatment village whose kids are not currently enrolled in school might see the government encourage kids enrolling in school, and see it as a positive thing that should be done, and in turn enroll their own kids in school."
   ]
  },
  {
   "cell_type": "code",
   "execution_count": null,
   "id": "differential-greek",
   "metadata": {},
   "outputs": [],
   "source": []
  }
 ],
 "metadata": {
  "kernelspec": {
   "display_name": "Python 3",
   "language": "python",
   "name": "python3"
  },
  "language_info": {
   "codemirror_mode": {
    "name": "ipython",
    "version": 3
   },
   "file_extension": ".py",
   "mimetype": "text/x-python",
   "name": "python",
   "nbconvert_exporter": "python",
   "pygments_lexer": "ipython3",
   "version": "3.8.5"
  }
 },
 "nbformat": 4,
 "nbformat_minor": 5
}
